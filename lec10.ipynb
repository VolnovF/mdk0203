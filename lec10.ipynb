{
 "cells": [
  {
   "cell_type": "markdown",
   "id": "71977744",
   "metadata": {},
   "source": [
    "# Случайная выборка"
   ]
  },
  {
   "cell_type": "markdown",
   "id": "72e940dd",
   "metadata": {},
   "source": [
    "## Задание 1. Объяснить различие между кодом"
   ]
  },
  {
   "cell_type": "code",
   "execution_count": 1,
   "id": "114a1b04",
   "metadata": {},
   "outputs": [],
   "source": [
    "import numpy as np\n",
    "a = np.array([6, 6, 6, 7, 7, 7, 7, 7, 7])"
   ]
  },
  {
   "cell_type": "code",
   "execution_count": 2,
   "id": "25328634",
   "metadata": {},
   "outputs": [
    {
     "data": {
      "text/plain": [
       "array([6, 7, 7, 7, 7])"
      ]
     },
     "execution_count": 2,
     "metadata": {},
     "output_type": "execute_result"
    }
   ],
   "source": [
    "a[np.random.randint(len(a), size=5)]"
   ]
  },
  {
   "cell_type": "markdown",
   "id": "1f3c59ab",
   "metadata": {},
   "source": [
    "## и кодом"
   ]
  },
  {
   "cell_type": "code",
   "execution_count": 3,
   "id": "0853dd8a",
   "metadata": {},
   "outputs": [
    {
     "data": {
      "text/plain": [
       "array([6, 7, 6, 6, 7])"
      ]
     },
     "execution_count": 3,
     "metadata": {},
     "output_type": "execute_result"
    }
   ],
   "source": [
    "np.random.randint(6, 8, 5)"
   ]
  },
  {
   "cell_type": "markdown",
   "id": "f875ecb5",
   "metadata": {},
   "source": [
    "### Ответ: В первом массиве значения определены заранее, после чего выбраны случайным образом. Во втором коде генерируется массив из 5 случайных чисел в диапазоне от 6 до 8."
   ]
  },
  {
   "cell_type": "markdown",
   "id": "af09602b",
   "metadata": {},
   "source": [
    "## Задание 2. В примере 2 использовался метод np.random.random_integers для выборки из равномерного распределения по числам с плавающей точкой [1/2, 3/2, 5/2, 7/2]. Как можно сделать то же самое, воспользовавшись методом np.random.randint?"
   ]
  },
  {
   "cell_type": "code",
   "execution_count": 4,
   "id": "bc83e5f7",
   "metadata": {},
   "outputs": [
    {
     "data": {
      "text/plain": [
       "array([0.5, 1.5, 1.5, 2.5, 1.5])"
      ]
     },
     "execution_count": 4,
     "metadata": {},
     "output_type": "execute_result"
    }
   ],
   "source": [
    "a = [1/2, 3/2, 5/2, 7/2]\n",
    "\n",
    "a = np.array(a)\n",
    "a[np.random.randint(len(a), size=5)]"
   ]
  },
  {
   "cell_type": "markdown",
   "id": "ed18a7c0",
   "metadata": {},
   "source": [
    "## Задание 3. Американская лотерея Mega Millions во время написания этой книги использовала выбор 5 чисел из 70 и одного из 25. Джекпот распределяется между игроками, выбравшими номера, совпадающие со случайно выбранными. Какова вероятность выиграть джекпот? Написать однострочный код Python, используя библиотеку NumPy, для выбора набора случайных чисел для игрока."
   ]
  },
  {
   "cell_type": "code",
   "execution_count": 5,
   "id": "30c41f85",
   "metadata": {},
   "outputs": [
    {
     "name": "stdout",
     "output_type": "stream",
     "text": [
      "Main numbers:  [44 38 14 30 26]\n",
      "Mega Ball:  [4]\n"
     ]
    }
   ],
   "source": [
    "main_numbers = np.random.choice(range(1, 72), size=5, replace=False)\n",
    "\n",
    "mega_ball = np.random.choice(range(1, 26), size=1)\n",
    "\n",
    "print(\"Main numbers: \", main_numbers)\n",
    "print(\"Mega Ball: \", mega_ball)"
   ]
  },
  {
   "cell_type": "code",
   "execution_count": null,
   "id": "cce070fc",
   "metadata": {},
   "outputs": [],
   "source": []
  }
 ],
 "metadata": {
  "kernelspec": {
   "display_name": "Python 3 (ipykernel)",
   "language": "python",
   "name": "python3"
  },
  "language_info": {
   "codemirror_mode": {
    "name": "ipython",
    "version": 3
   },
   "file_extension": ".py",
   "mimetype": "text/x-python",
   "name": "python",
   "nbconvert_exporter": "python",
   "pygments_lexer": "ipython3",
   "version": "3.11.5"
  }
 },
 "nbformat": 4,
 "nbformat_minor": 5
}
