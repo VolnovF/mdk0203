{
 "cells": [
  {
   "cell_type": "markdown",
   "id": "0a47d817",
   "metadata": {},
   "source": [
    "# Оптимизация, подгонка данных и численные методы решения уравнений"
   ]
  },
  {
   "cell_type": "markdown",
   "id": "eeb78382",
   "metadata": {},
   "source": [
    "## Задание 1"
   ]
  },
  {
   "cell_type": "code",
   "execution_count": 4,
   "id": "66f5c59e",
   "metadata": {},
   "outputs": [
    {
     "name": "stdout",
     "output_type": "stream",
     "text": [
      "f(0.1): 0.21542514498875842\n",
      "f(1): -0.7899924966004455\n",
      "f(-1): 1.1899924966004454\n",
      "f(-0.1): 0.1845748550112416\n",
      "Ошибка на интервале (-1, -0.1): f(a) and f(b) must have different signs\n",
      "Корень на интервале (0.1, 1): 0.29285950076064027\n"
     ]
    }
   ],
   "source": [
    "import numpy as np\n",
    "from scipy.optimize import brentq\n",
    "\n",
    "def f(x):\n",
    "    return x + 1 - 1 / (x - 3)**3\n",
    "\n",
    "\n",
    "print(f\"f(2): {f(2)}\")\n",
    "print(f\"f(2.9): {f(2.9)}\")\n",
    "print(f\"f(3.1): {f(3.1)}\")\n",
    "print(f\"f(4): {f(4)}\")\n",
    "\n",
    "\n",
    "interval1 = (2, 2.9)\n",
    "interval2 = (3.1, 4)\n",
    "\n",
    "try:\n",
    "    root1 = brentq(f, *interval1)\n",
    "    print(f\"Корень на интервале {interval1}: {root1}\")\n",
    "except ValueError as e:\n",
    "    print(f\"Ошибка на интервале {interval1}: {e}\")\n",
    "    \n",
    "try:\n",
    "    root2 = brentq(f, *interval2)\n",
    "    print(f\"Корень на интервале {interval2}: {root2}\")\n",
    "except ValueError as e:\n",
    "    print(f\"Ошибка на интервале {interval2}: {e}\")\n"
   ]
  },
  {
   "cell_type": "markdown",
   "id": "49d523f7",
   "metadata": {},
   "source": [
    "## Задание 2"
   ]
  },
  {
   "cell_type": "markdown",
   "id": "475fd228",
   "metadata": {},
   "source": [
    "## a)"
   ]
  },
  {
   "cell_type": "code",
   "execution_count": 3,
   "id": "fe09957c",
   "metadata": {},
   "outputs": [
    {
     "name": "stdout",
     "output_type": "stream",
     "text": [
      "f(0.1): 0.21542514498875842\n",
      "f(1): -0.7899924966004455\n",
      "f(-1): 1.1899924966004454\n",
      "f(-0.1): 0.1845748550112416\n",
      "Ошибка на интервале (-1, -0.1): f(a) and f(b) must have different signs\n",
      "Корень на интервале (0.1, 1): 0.29285950076064027\n"
     ]
    }
   ],
   "source": [
    "import numpy as np\n",
    "from scipy.optimize import brentq\n",
    "\n",
    "def f(x):\n",
    "    return 1/5 + x * np.cos(3/x)\n",
    "\n",
    "print(f\"f(0.1): {f(0.1)}\")\n",
    "print(f\"f(1): {f(1)}\")\n",
    "print(f\"f(-1): {f(-1)}\")\n",
    "print(f\"f(-0.1): {f(-0.1)}\")\n",
    "\n",
    "interval1 = (-1, -0.1)\n",
    "interval2 = (0.1, 1)\n",
    "\n",
    "try:\n",
    "    root1 = brentq(f, *interval1)\n",
    "    print(f\"Корень на интервале {interval1}: {root1}\")\n",
    "except ValueError as e:\n",
    "    print(f\"Ошибка на интервале {interval1}: {e}\")\n",
    "    \n",
    "try:\n",
    "    root2 = brentq(f, *interval2)\n",
    "    print(f\"Корень на интервале {interval2}: {root2}\")\n",
    "except ValueError as e:\n",
    "    print(f\"Ошибка на интервале {interval2}: {e}\")"
   ]
  },
  {
   "cell_type": "markdown",
   "id": "92657bcd",
   "metadata": {},
   "source": [
    "## б)"
   ]
  },
  {
   "cell_type": "code",
   "execution_count": 35,
   "id": "ab984473",
   "metadata": {},
   "outputs": [
    {
     "name": "stdout",
     "output_type": "stream",
     "text": [
      "Корни функции:  []\n"
     ]
    }
   ],
   "source": [
    "import numpy as np\n",
    "from scipy.optimize import newton\n",
    "\n",
    "def f1(x):\n",
    "    return 1/5 + x * np.cos(3/x)\n",
    "\n",
    "def f1_prime(x):\n",
    "    return np.cos(3/x) - 3 * np.sin(3/x) /x\n",
    "\n",
    "initial_guesses = [-1, -0.5, 0.5, 1]\n",
    "\n",
    "roots = []\n",
    "for guess in initial_guesses:\n",
    "    try:\n",
    "        root = newton(f1, guess, f1_prime)\n",
    "        if all(abs(root-r)> 1e-5 for r in roots):\n",
    "            roots.append(root)\n",
    "    except RuntimeError:\n",
    "        pass\n",
    "              \n",
    "print (\"Корни функции: \", roots)"
   ]
  },
  {
   "cell_type": "code",
   "execution_count": null,
   "id": "310118fb",
   "metadata": {},
   "outputs": [],
   "source": []
  }
 ],
 "metadata": {
  "kernelspec": {
   "display_name": "Python 3 (ipykernel)",
   "language": "python",
   "name": "python3"
  },
  "language_info": {
   "codemirror_mode": {
    "name": "ipython",
    "version": 3
   },
   "file_extension": ".py",
   "mimetype": "text/x-python",
   "name": "python",
   "nbconvert_exporter": "python",
   "pygments_lexer": "ipython3",
   "version": "3.11.5"
  }
 },
 "nbformat": 4,
 "nbformat_minor": 5
}
