{
 "cells": [
  {
   "cell_type": "markdown",
   "id": "0784ff90",
   "metadata": {},
   "source": [
    "# Практическая работа №14"
   ]
  },
  {
   "cell_type": "markdown",
   "id": "c837eda1",
   "metadata": {},
   "source": [
    "## Физические константы и специальные функции"
   ]
  },
  {
   "cell_type": "code",
   "execution_count": 5,
   "id": "3e084c58",
   "metadata": {},
   "outputs": [
    {
     "name": "stdout",
     "output_type": "stream",
     "text": [
      "239.41063200000002\n"
     ]
    }
   ],
   "source": [
    "def get_wv(D0):\n",
    "    h = 6.626e-34\n",
    "    c = 3.0e8\n",
    "    N_A = 6.022e23\n",
    "    \n",
    "    E_molecule = (D0 * 1e3) / N_A\n",
    "    lambda_wave = h * c / E_molecule\n",
    "    lambda_wave_nm = lambda_wave * 1e9\n",
    "    return lambda_wave_nm\n",
    "\n",
    "print(get_wv(500))\n",
    "    "
   ]
  },
  {
   "cell_type": "code",
   "execution_count": null,
   "id": "7926decc",
   "metadata": {},
   "outputs": [],
   "source": []
  }
 ],
 "metadata": {
  "kernelspec": {
   "display_name": "Python 3 (ipykernel)",
   "language": "python",
   "name": "python3"
  },
  "language_info": {
   "codemirror_mode": {
    "name": "ipython",
    "version": 3
   },
   "file_extension": ".py",
   "mimetype": "text/x-python",
   "name": "python",
   "nbconvert_exporter": "python",
   "pygments_lexer": "ipython3",
   "version": "3.11.5"
  }
 },
 "nbformat": 4,
 "nbformat_minor": 5
}
