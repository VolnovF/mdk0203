{
 "cells": [
  {
   "cell_type": "markdown",
   "id": "6da0d949",
   "metadata": {},
   "source": [
    "# Обыкновенные дифференциальные уравнения"
   ]
  },
  {
   "cell_type": "markdown",
   "id": "6b5426f5",
   "metadata": {},
   "source": [
    "Обыкновенные дифференциальные уравнения (ОДУ) можно решать в численном виде с помощью метода ```scipy.integrate.odeint``` или метода ```scipy.integrate.solve_ivp``` («solve an initial value problem» – «решение задачи с начальными условиями (или задачи Коши)»). Второй метод появился в  версии 1.0 библиотеки ```SciPy```, и именно он рекомендуется для практического использования. Тем не менее в ранее написанном коде продолжает применяться ```odeint```. Метод ```solve_ivp``` решает дифференциальные уравнения первого порядка, но для решения ДУ более высоких порядков необходимо сначала разложить их в систему ДУ первого порядка, как описано ниже."
   ]
  },
  {
   "cell_type": "markdown",
   "id": "280a9895",
   "metadata": {},
   "source": [
    "## Решение одного ОДУ первого порядка"
   ]
  },
  {
   "cell_type": "markdown",
   "id": "b10b1c24",
   "metadata": {},
   "source": [
    "В самом простом варианте использования для решения одного ОДУ первого\n",
    "порядка\n",
    "\n",
    "![](images/image1.png)\n",
    "\n",
    "метод ```solve_ivp``` принимает три аргумента: объект функции, возвращаемой\n",
    "```dy/dt```, начальный и конечный моменты времени для интегрирования и набор\n",
    "начальных условий ```y0```. Механизм решения ОДУ выбирает и возвращает последовательность подходящих моментов (точек) времени (если они не заданы),\n",
    "в которых выполняется интегрирование.\n",
    "\n",
    "Например, рассмотрим дифференциальное уравнение первого порядка,\n",
    "описывающее скорость реакции ```A → P``` в выражении концентрации реагента A:\n",
    "\n",
    "![](images/image2.png)\n",
    "\n",
    "Для этого примера существует легко выводимое аналитическое решение:\n",
    "\n",
    "![](images/image3.png)\n",
    "\n",
    "где ```[A]0``` – начальная концентрация реагента ```[A]```.\n",
    "\n",
    "Для решения этого уравнения в численном виде с помощью ```solve_ivp``` необходимо записать его в форме, показанной выше, с единственной зависимой переменной ```y(t) ≡ [A]```, которая является функцией от независимой переменной ```t (время)```. Получаем:\n",
    "\n",
    "![](images/image4.png)\n",
    "\n",
    "Необходимо определить функцию, возвращающую ```dy/dt```, как ```f(t,y)``` (в общем\n",
    "случае это функция и от ```t```, и от ```y```), которая в нашем случае весьма проста:"
   ]
  },
  {
   "cell_type": "code",
   "execution_count": 2,
   "id": "c9fe62b3",
   "metadata": {},
   "outputs": [],
   "source": [
    "def dydt(t, y):\n",
    "    return -k * y"
   ]
  },
  {
   "cell_type": "markdown",
   "id": "df31b119",
   "metadata": {},
   "source": [
    "Здесь порядок аргументов важен. Начальный и конечный моменты (точки)\n",
    "времени ```t_span``` должны передаваться как кортеж ```(t0, tf)```, а начальные условия должны быть представлены объектом типа массив, даже если, как в рассматриваемом здесь случае, передается только одно значение. Получаем:"
   ]
  },
  {
   "cell_type": "markdown",
   "id": "efd1dc44",
   "metadata": {},
   "source": [
    "```soln = solve_ivp(dydt, (t0, tf), [y0])```"
   ]
  },
  {
   "cell_type": "markdown",
   "id": "7bfe082b",
   "metadata": {},
   "source": [
    "Возвращаемый объект ```soln``` –это экземпляр класса ```OdeResult```, который определяет ряд важных свойств, включая массивы ```soln.t``` для точек времени, используемых при интегрировании, ```soln.y``` со значениями решения в этих точках времени и ```soln.success``` – логический флаг, сообщающий, успешно или нет механизм решения ДУ достиг требуемой конечной точки времени.\n",
    "Программа, сравнивающая численный и аналитический результаты для реакции при ```k = 0.2 1/с``` и ```y(0) ≡ [A]0 = 100```, приведена в листинге 1. Полученный\n",
    "график изображен на рис. 1."
   ]
  },
  {
   "cell_type": "markdown",
   "id": "ae704611",
   "metadata": {},
   "source": [
    "Листинг 1. Кинетика реакции первого порядка"
   ]
  },
  {
   "cell_type": "code",
   "execution_count": 3,
   "id": "6bf1cb27",
   "metadata": {},
   "outputs": [
    {
     "data": {
      "image/png": "[encoded data removed]",
      "text/plain": [
       "<Figure size 432x288 with 1 Axes>"
      ]
     },
     "metadata": {
      "needs_background": "light"
     },
     "output_type": "display_data"
    }
   ],
   "source": [
    "import numpy as np\n",
    "from scipy.integrate import solve_ivp\n",
    "import matplotlib.pyplot as plt\n",
    "# Постоянная скорость реакции первого порядка, 1/с.\n",
    "k = 0.2\n",
    "# Начальное условие для y: 100 % реагента в момент времени t = 0.\n",
    "y0 = 100\n",
    "# Начальная и конечная точки (моменты) времени для интегрирования.\n",
    "t0, tf = 0, 20\n",
    "def dydt(t, y):\n",
    "    \"\"\" Return dy/dt = f(t, y) at time t. \"\"\"\n",
    "    \"\"\" Возвращает dy/dt = f(t, y) в момент времени t. \"\"\"\n",
    "    return -k * y\n",
    "# Интегрирование дифференциального уравнения.\n",
    "soln = solve_ivp(dydt, (t0, tf), [y0])\n",
    "t, y = soln.t, soln.y[0]\n",
    "# Построение графика и сравнение численного и точного (аналитического) решений.\n",
    "plt.plot(t, y, 'o', color='k', label=r'\\texttt{solve\\_ivp}')\n",
    "plt.plot(t, y0 * np.exp(-k*t), color='gray', label='Exact')\n",
    "plt.xlabel(r'$t\\;/\\mathrm{s}$')\n",
    "plt.ylabel('Remaining reactant (\\%)')\n",
    "plt.legend()\n",
    "plt.show()"
   ]
  },
  {
   "cell_type": "markdown",
   "id": "c7157aeb",
   "metadata": {},
   "source": [
    "**Рис. 1**. Экспоненциальное снижение концентрации реагента в реакции первого порядка:\n",
    "точное решение и решение численным методом с использованием точек времени,\n",
    "выбранных механизмом решения ОДУ"
   ]
  },
  {
   "cell_type": "markdown",
   "id": "13004426",
   "metadata": {},
   "source": [
    "Такая методика хорошо подходит, если все, что требуется, – это конечная\n",
    "концентрация реагента, но для отслеживания изменений концентрации с более высокой разрешающей способностью по времени можно передать специальную последовательность точек времени в аргументе ```t_eval```:"
   ]
  },
  {
   "cell_type": "raw",
   "id": "73258f9b",
   "metadata": {},
   "source": [
    "# Удачно подобранная решетка из 21 точки времени в интервале 0-20 с для отслеживания реакции.\n",
    "t0, tf = 0, 20\n",
    "t_eval = np.linspace(t0, tf, 21)\n",
    "# Интегрирование дифференциального уравнения.\n",
    "soln = solve_ivp(dydt, (t0, tf), [y0], t_eval=t_eval)\n",
    "t, y = soln.t, soln.y[0]"
   ]
  },
  {
   "cell_type": "markdown",
   "id": "06d4d8ab",
   "metadata": {},
   "source": [
    "И все же лучше присвоить аргументу ```dense_output``` значение True, чтобы\n",
    "определить объект ```OdeSolution``` с именем ```sol``` как один из возвращаемых объектов. Это можно использовать для генерации интерполяционных значений\n",
    "решения для промежуточных значений точек времени:"
   ]
  },
  {
   "cell_type": "raw",
   "id": "60c68bc7",
   "metadata": {},
   "source": [
    "# Начальная и конечная точки времени для интегрирования.\n",
    "t0, tf = 0, 20\n",
    "# Интегрирование дифференциального уравнения.\n",
    "soln = solve_ivp(dydt, (t0, tf), [y0], dense_output=True)\n",
    "t = np.linspace(t0, tf, 20)\n",
    "y = soln.sol(t)[0]"
   ]
  },
  {
   "cell_type": "markdown",
   "id": "608604a6",
   "metadata": {},
   "source": [
    "Обратите внимание: объект ```soln.sol``` является вызываемым: значение независимой переменной – времени – передается в него, и возвращается массив\n",
    "решения в этот момент времени. Здесь имеется только одна зависимая переменная ```y```, поэтому массив индексируется по ```[0]```.\n",
    "График с  точками решения y, аналогичный полученному в  предыдущем\n",
    "примере, показан на рис. 2."
   ]
  },
  {
   "cell_type": "markdown",
   "id": "d5321cda",
   "metadata": {},
   "source": [
    "![](images/image5.png)"
   ]
  },
  {
   "cell_type": "markdown",
   "id": "ef64ce52",
   "metadata": {},
   "source": [
    "**Рис. 2**. Экспоненциальное снижение концентрации реагента в реакции первого порядка:\n",
    "точное решение и решение численным методом с использованием предварительно\n",
    "определенных точек времени"
   ]
  },
  {
   "cell_type": "markdown",
   "id": "ba9d15b4",
   "metadata": {},
   "source": [
    "Как и при использовании группы методов ```quad```, если функция, возвращающая производную, требует дополнительных аргументов, то их можно передать\n",
    "в метод ```solve_ivp``` в параметре ```args```. В приведенном выше примере ```k``` относится к глобальной области видимости, но эту переменную можно было бы передать\n",
    "явно:"
   ]
  },
  {
   "cell_type": "raw",
   "id": "c0002a06",
   "metadata": {},
   "source": [
    "def dydt(t, y, k):\n",
    "    return -k * y"
   ]
  },
  {
   "cell_type": "markdown",
   "id": "c2d62c60",
   "metadata": {},
   "source": [
    "Обратите внимание: дополнительные параметры обязательно должны указываться после независимой и  зависимой переменных. Тогда вызов метода ```solve_ivp``` мог бы выглядеть следующим образом:"
   ]
  },
  {
   "cell_type": "raw",
   "id": "154917d5",
   "metadata": {},
   "source": [
    "soln = solve_ivp(dydt, (t0, tf), [y0], args=(k,))"
   ]
  },
  {
   "cell_type": "markdown",
   "id": "1b0f5f30",
   "metadata": {},
   "source": [
    "Как ни странно, но возможность передачи дополнительных аргументов\n",
    "в ```args``` была добавлена только в версии ```SciPy 1.4```. Другим способом передачи\n",
    "аргументов из области видимости вызывающей стороны в  функцию вычисления производной ```dydt``` является использование в качестве обертки для этой\n",
    "функции лямбда-выражения:"
   ]
  },
  {
   "cell_type": "raw",
   "id": "edc66240",
   "metadata": {},
   "source": [
    "soln = solve_ivp(lambda t, y: dydt(t, y, k), (t0, tf), y0, t_eval=t)"
   ]
  },
  {
   "cell_type": "markdown",
   "id": "a4baed2b",
   "metadata": {},
   "source": [
    "## Примеры"
   ]
  },
  {
   "cell_type": "markdown",
   "id": "8267159b",
   "metadata": {},
   "source": [
    "Скорость изменения функции относительно независимой переменной может варьироваться, и это то, чем являются производные. Когда существует переменная величина и переменная скорость изменения, чаще всего используется производная."
   ]
  },
  {
   "cell_type": "markdown",
   "id": "10ed36fe",
   "metadata": {},
   "source": [
    "Python ```Scipy``` имеет метод в модуле , который находит значение точки для n-й производной функции. ```derivative()scipy.misc```\n",
    "\n",
    "Синтаксис приведен ниже.\n"
   ]
  },
  {
   "cell_type": "raw",
   "id": "23b74653",
   "metadata": {},
   "source": [
    "scipy.misc.derivative(func, x0, dx=1.0, n=1, args=(), order=3)"
   ]
  },
  {
   "cell_type": "markdown",
   "id": "a790ea60",
   "metadata": {},
   "source": [
    "Где параметры:\n",
    "\n",
    "- func: это функция ввода.\n",
    "- x0(float): Точка, в которой можно найти n-ю производную.\n",
    "- dx(float): это интервал.\n",
    "- n(int): порядок производной. Значение по умолчанию — 1.\n",
    "- args(tuple): используется для предоставления аргументов.\n",
    "- order(int): Используйте только нечетное количество точек."
   ]
  },
  {
   "cell_type": "code",
   "execution_count": 25,
   "id": "e447cd34",
   "metadata": {},
   "outputs": [
    {
     "data": {
      "text/plain": [
       "7.75"
      ]
     },
     "execution_count": 25,
     "metadata": {},
     "output_type": "execute_result"
    }
   ],
   "source": [
    "from scipy import misc\n",
    "def f(x):\n",
    "    return x**3\n",
    "misc.derivative(f,1.5)"
   ]
  },
  {
   "cell_type": "markdown",
   "id": "285ef571",
   "metadata": {},
   "source": [
    "## Вычисление второй производной функции"
   ]
  },
  {
   "cell_type": "markdown",
   "id": "cd6b90e6",
   "metadata": {},
   "source": [
    "Вторая производная, грубо говоря, измеряет, как изменяется скорость изменения самой величины. Например, вторая производная положения объекта по времени — это мгновенное ускорение объекта или скорость изменения скорости объекта по времени.\n",
    "\n",
    "Давайте найдем вторую производную любой функции, выполнив следующие шаги:\n",
    "\n",
    "Импортируйте необходимые библиотеки, используя приведенный ниже код Python."
   ]
  },
  {
   "cell_type": "code",
   "execution_count": 26,
   "id": "f8925640",
   "metadata": {},
   "outputs": [],
   "source": [
    "def fun(x):\n",
    "    return x**3 + x**2"
   ]
  },
  {
   "cell_type": "code",
   "execution_count": 35,
   "id": "06cdb841",
   "metadata": {},
   "outputs": [
    {
     "data": {
      "text/plain": [
       "5.999999985739635"
      ]
     },
     "execution_count": 35,
     "metadata": {},
     "output_type": "execute_result"
    }
   ],
   "source": [
    "misc.derivative(f,1,n=2,dx=1e-4)"
   ]
  },
  {
   "cell_type": "markdown",
   "id": "b407060f",
   "metadata": {},
   "source": [
    "## Производная массива функции"
   ]
  },
  {
   "cell_type": "markdown",
   "id": "0882f656",
   "metadata": {},
   "source": [
    "Чтобы вычислить производную массива, мы будем использовать цикл Python с функцией производной в этом разделе."
   ]
  },
  {
   "cell_type": "markdown",
   "id": "8394fe16",
   "metadata": {},
   "source": [
    "Определите функции, используя lambda-функцию, производную которой нам нужно найти, используя приведенный ниже код."
   ]
  },
  {
   "cell_type": "code",
   "execution_count": 36,
   "id": "828e672e",
   "metadata": {},
   "outputs": [],
   "source": [
    "from scipy.misc import derivative\n",
    "f1 = lambda x: x**2+3*x+2\n",
    "f2 = lambda x: x**3+3*x+2\n",
    "fun=[f1,f2]"
   ]
  },
  {
   "cell_type": "markdown",
   "id": "eb0f4bd5",
   "metadata": {},
   "source": [
    "Создайте массив вышеуказанных функций. Вычислите производную массива, содержащего функции."
   ]
  },
  {
   "cell_type": "code",
   "execution_count": 37,
   "id": "b4f7417c",
   "metadata": {},
   "outputs": [
    {
     "name": "stdout",
     "output_type": "stream",
     "text": [
      "Derivative of 1 function is 5.0\n",
      "Derivative of 2 function is 7.0\n"
     ]
    }
   ],
   "source": [
    "for i in range(len(fun)):\n",
    "    ans = derivative(fun[i],1)\n",
    "    print('Derivative of {} function is'.format(i+1),ans)"
   ]
  },
  {
   "cell_type": "markdown",
   "id": "efddac91",
   "metadata": {},
   "source": [
    "Приведенный выше вывод содержит производную от вышеуказанных функций 5.0 и 7.0."
   ]
  },
  {
   "cell_type": "markdown",
   "id": "73aa2ddb",
   "metadata": {},
   "source": [
    "## Вторая производная от массива фуккции"
   ]
  },
  {
   "cell_type": "markdown",
   "id": "72f35971",
   "metadata": {},
   "source": [
    "В этом разделе мы будем использовать цикл Python с функцией производной для вычисления второй производной массива.\n",
    "\n",
    "Давайте посмотрим на примере, выполнив следующие шаги:\n",
    "\n",
    "Импортируйте необходимые библиотеки, используя приведенный ниже код Python."
   ]
  },
  {
   "cell_type": "markdown",
   "id": "62541405",
   "metadata": {},
   "source": [
    "Определите функции, используя lambda-функцию, производную которой нам нужно найти, используя приведенный ниже код."
   ]
  },
  {
   "cell_type": "code",
   "execution_count": 38,
   "id": "d3b20498",
   "metadata": {},
   "outputs": [],
   "source": [
    "func1 = lambda x: x**4+2*x**2+2\n",
    "func2 = lambda x: x**3+2*x**2+2"
   ]
  },
  {
   "cell_type": "markdown",
   "id": "70a86c5c",
   "metadata": {},
   "source": [
    "Создайте массив вышеуказанных функций, используя параметр метода, ```derivative()``` используя приведенный ниже код."
   ]
  },
  {
   "cell_type": "code",
   "execution_count": 41,
   "id": "c56de8b9",
   "metadata": {},
   "outputs": [],
   "source": [
    "func=[func1,func2]"
   ]
  },
  {
   "cell_type": "markdown",
   "id": "39faea67",
   "metadata": {},
   "source": [
    "Вычислите вторую производную массива, содержащего функции, используя приведенный ниже код."
   ]
  },
  {
   "cell_type": "code",
   "execution_count": 42,
   "id": "4aae0894",
   "metadata": {},
   "outputs": [
    {
     "name": "stdout",
     "output_type": "stream",
     "text": [
      "Derivative of 1 function is 2.0\n",
      "Derivative of 2 function is 6.0\n"
     ]
    }
   ],
   "source": [
    "for i in range(len(fun)):\n",
    "    ans = derivative(fun[i],1,n=2)\n",
    "    print('Derivative of {} function is'.format(i+1),ans)"
   ]
  },
  {
   "cell_type": "markdown",
   "id": "6a3c1e9e",
   "metadata": {},
   "source": [
    "В приведенном выше коде мы передаем параметр ```n=2``` в метод производной() для вычисления производной второго порядка функций в массиве."
   ]
  },
  {
   "cell_type": "markdown",
   "id": "614df571",
   "metadata": {},
   "source": [
    "## Производная от массива. Графики"
   ]
  },
  {
   "cell_type": "markdown",
   "id": "a4470e2a",
   "metadata": {},
   "source": [
    "Мы уже узнали о том, как вычислить производную из приведенного выше подраздела, теперь мы вычислим производную и построим эту производную, чтобы увидеть, как она выглядит.\n",
    "\n",
    "Давайте вычислим и построим производную, выполнив следующие шаги:\n",
    "\n",
    "Импортируйте необходимые методы или библиотеки, используя приведенный ниже код Python."
   ]
  },
  {
   "cell_type": "code",
   "execution_count": 43,
   "id": "2125f79c",
   "metadata": {},
   "outputs": [],
   "source": [
    "import matplotlib.pyplot as plt\n",
    "import numpy as np\n",
    "from scipy.misc import derivative"
   ]
  },
  {
   "cell_type": "markdown",
   "id": "46253bf5",
   "metadata": {},
   "source": [
    "Теперь определите функцию, используя приведенный ниже код."
   ]
  },
  {
   "cell_type": "code",
   "execution_count": 45,
   "id": "20012a48",
   "metadata": {},
   "outputs": [],
   "source": [
    "def fun(x):\n",
    "    return 3*x*x*x+x+2"
   ]
  },
  {
   "cell_type": "markdown",
   "id": "6ad74423",
   "metadata": {},
   "source": [
    "Вычислите производную вышеуказанной функции, используя приведенный ниже код."
   ]
  },
  {
   "cell_type": "code",
   "execution_count": 47,
   "id": "aaeaa691",
   "metadata": {},
   "outputs": [],
   "source": [
    "def derivate(x):\n",
    "    return derivative(fun, x)"
   ]
  },
  {
   "cell_type": "markdown",
   "id": "ae4b088b",
   "metadata": {},
   "source": [
    "Определите интервалы по оси X, используя приведенный ниже код."
   ]
  },
  {
   "cell_type": "code",
   "execution_count": 49,
   "id": "3d16661f",
   "metadata": {},
   "outputs": [],
   "source": [
    "y_val = np.linspace(-10, 10)"
   ]
  },
  {
   "cell_type": "markdown",
   "id": "21fb92b4",
   "metadata": {},
   "source": [
    "Постройте приведенную выше функцию и производную, используя приведенный ниже код."
   ]
  },
  {
   "cell_type": "code",
   "execution_count": 50,
   "id": "5a70ba99",
   "metadata": {},
   "outputs": [
    {
     "data": {
      "image/png": "[encoded data removed]",
      "text/plain": [
       "<Figure size 432x288 with 1 Axes>"
      ]
     },
     "metadata": {
      "needs_background": "light"
     },
     "output_type": "display_data"
    }
   ],
   "source": [
    "plt.plot(y_val, fun(y_val), color='blue', label='Function')\n",
    "\n",
    "plt.plot(y_val, derivate(y_val), color='red', label='Derivative')\n",
    "\n",
    "plt.legend(loc='upper left')\n",
    "plt.grid(True)"
   ]
  },
  {
   "cell_type": "markdown",
   "id": "770bce1f",
   "metadata": {},
   "source": [
    "## Упражнения\n"
   ]
  },
  {
   "cell_type": "markdown",
   "id": "b18a5f59",
   "metadata": {},
   "source": [
    " Найти первую и вторую производные, а таже построить график функции, первой и второй ее производных для cos(x), sin(x), tg(x), ctg(x)"
   ]
  },
  {
   "cell_type": "code",
   "execution_count": null,
   "id": "df4028c7",
   "metadata": {},
   "outputs": [],
   "source": []
  }
 ],
 "metadata": {
  "kernelspec": {
   "display_name": "Python 3",
   "language": "python",
   "name": "python3"
  },
  "language_info": {
   "codemirror_mode": {
    "name": "ipython",
    "version": 3
   },
   "file_extension": ".py",
   "mimetype": "text/x-python",
   "name": "python",
   "nbconvert_exporter": "python",
   "pygments_lexer": "ipython3",
   "version": "3.8.8"
  }
 },
 "nbformat": 4,
 "nbformat_minor": 5
}
