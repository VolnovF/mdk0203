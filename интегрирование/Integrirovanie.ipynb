{
 "cells": [
  {
   "cell_type": "markdown",
   "id": "9a4df413",
   "metadata": {},
   "source": [
    "# Интегрирование"
   ]
  },
  {
   "cell_type": "markdown",
   "id": "94c96767",
   "metadata": {},
   "source": [
    "## Задание 1"
   ]
  },
  {
   "cell_type": "code",
   "execution_count": 2,
   "id": "7594f0f5",
   "metadata": {},
   "outputs": [
    {
     "name": "stdout",
     "output_type": "stream",
     "text": [
      "Результат интеграла:  2.999964948683555\n",
      "Погрешность:  0.0009520766614602031\n"
     ]
    },
    {
     "name": "stderr",
     "output_type": "stream",
     "text": [
      "<ipython-input-2-ef31fd969dde>:7: IntegrationWarning: The maximum number of subdivisions (50) has been achieved.\n",
      "  If increasing the limit yields no improvement it is advised to analyze \n",
      "  the integrand in order to determine the difficulties.  If the position of a \n",
      "  local difficulty can be determined (singularity, discontinuity) one will \n",
      "  probably gain from splitting up the interval and calling the integrator \n",
      "  on the subranges.  Perhaps a special-purpose integrator should be used.\n",
      "  result, error = quad(integrand, 0, 6)\n"
     ]
    }
   ],
   "source": [
    "import numpy as np;\n",
    "from scipy.integrate import quad\n",
    "\n",
    "def integrand(x):\n",
    "    return np.floor(x) -2* np.floor(x/2)\n",
    "\n",
    "result, error = quad(integrand, 0, 6)\n",
    "\n",
    "print(\"Результат интеграла: \", result)\n",
    "print(\"Погрешность: \", error)"
   ]
  },
  {
   "cell_type": "markdown",
   "id": "572ec57f",
   "metadata": {},
   "source": [
    "# Задание 2"
   ]
  },
  {
   "cell_type": "markdown",
   "id": "06071178",
   "metadata": {},
   "source": [
    "## a)\n"
   ]
  },
  {
   "cell_type": "code",
   "execution_count": 5,
   "id": "53a79c96",
   "metadata": {},
   "outputs": [
    {
     "name": "stdout",
     "output_type": "stream",
     "text": [
      "Результат интеграла(a):  0.0012644892673496185\n",
      "Погрешность:  1.1126990906558069e-14\n"
     ]
    }
   ],
   "source": [
    "from scipy.integrate import quad\n",
    "\n",
    "def integrand_a(x):\n",
    "    return (x**4 * (1-x)**4) / (1+x**2)\n",
    "\n",
    "result_a, error_a = quad(integrand_a, 0, 1)\n",
    "print(\"Результат интеграла(a): \", result_a)\n",
    "print(\"Погрешность: \", error_a)"
   ]
  },
  {
   "cell_type": "markdown",
   "id": "6b424e0f",
   "metadata": {},
   "source": [
    "## б)\n"
   ]
  },
  {
   "cell_type": "code",
   "execution_count": 7,
   "id": "48e57f32",
   "metadata": {},
   "outputs": [
    {
     "name": "stdout",
     "output_type": "stream",
     "text": [
      "Результат интеграла(б):  6.49393940226683\n",
      "Погрешность:  2.62847130244751e-09\n"
     ]
    },
    {
     "name": "stderr",
     "output_type": "stream",
     "text": [
      "<ipython-input-7-8c1def05e05f>:4: RuntimeWarning: overflow encountered in exp\n",
      "  return x**3/ (np.exp(x)-1)\n"
     ]
    }
   ],
   "source": [
    "import numpy as np;\n",
    "\n",
    "def integrand_b(x):\n",
    "    return x**3/ (np.exp(x)-1)\n",
    "\n",
    "result_b, error_b = quad(integrand_b, 0, np.inf)\n",
    "print(\"Результат интеграла(б): \", result_b)\n",
    "print(\"Погрешность: \", error_b)"
   ]
  },
  {
   "cell_type": "markdown",
   "id": "336dcfb5",
   "metadata": {},
   "source": [
    "## в)"
   ]
  },
  {
   "cell_type": "code",
   "execution_count": 8,
   "id": "4e978708",
   "metadata": {},
   "outputs": [
    {
     "name": "stdout",
     "output_type": "stream",
     "text": [
      "Результат интеграла(в):  1.2912859970626636\n",
      "Погрешность:  3.668487735808412e-11\n"
     ]
    }
   ],
   "source": [
    "import numpy as np;\n",
    "from scipy.integrate import quad\n",
    "\n",
    "def integrand_v(x):\n",
    "    return x**(-x)\n",
    "\n",
    "result_v, error_v = quad(integrand_v, 0, 1)\n",
    "print(\"Результат интеграла(в): \", result_v)\n",
    "print(\"Погрешность: \", error_v)"
   ]
  },
  {
   "cell_type": "markdown",
   "id": "6ec71c4a",
   "metadata": {},
   "source": [
    "## г)"
   ]
  },
  {
   "cell_type": "code",
   "execution_count": 9,
   "id": "888ef84d",
   "metadata": {},
   "outputs": [
    {
     "name": "stdout",
     "output_type": "stream",
     "text": [
      "Результат интеграла(г):  2.0000000000000018\n",
      "Погрешность:  1.687538997430238e-14\n"
     ]
    }
   ],
   "source": [
    "p = 2\n",
    "def integrand_g(x):\n",
    "    return (np.log(1/x))**p\n",
    "\n",
    "result_g, error_g = quad(integrand_g, 0, 1)\n",
    "print(\"Результат интеграла(г): \", result_g)\n",
    "print(\"Погрешность: \", error_g)"
   ]
  },
  {
   "cell_type": "markdown",
   "id": "f7306613",
   "metadata": {},
   "source": [
    "## д)"
   ]
  },
  {
   "cell_type": "code",
   "execution_count": 10,
   "id": "9aa9cc9b",
   "metadata": {},
   "outputs": [
    {
     "name": "stdout",
     "output_type": "stream",
     "text": [
      "Результат интеграла(д):  7.954926521012844\n",
      "Погрешность:  2.436596551939076e-11\n"
     ]
    }
   ],
   "source": [
    "z = 1\n",
    "def integrand_d(theta):\n",
    "    return np.exp(z*np.cos(theta))\n",
    "\n",
    "result_d, error_d = quad(integrand_d, 0, 2*np.pi)\n",
    "print(\"Результат интеграла(д): \", result_d)\n",
    "print(\"Погрешность: \", error_d)"
   ]
  },
  {
   "cell_type": "code",
   "execution_count": null,
   "id": "bafb5b97",
   "metadata": {},
   "outputs": [],
   "source": []
  }
 ],
 "metadata": {
  "kernelspec": {
   "display_name": "Python 3 (ipykernel)",
   "language": "python",
   "name": "python3"
  },
  "language_info": {
   "codemirror_mode": {
    "name": "ipython",
    "version": 3
   },
   "file_extension": ".py",
   "mimetype": "text/x-python",
   "name": "python",
   "nbconvert_exporter": "python",
   "pygments_lexer": "ipython3",
   "version": "3.11.5"
  }
 },
 "nbformat": 4,
 "nbformat_minor": 5
}
